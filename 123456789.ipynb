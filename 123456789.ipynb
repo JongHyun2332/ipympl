{
  "nbformat": 4,
  "nbformat_minor": 0,
  "metadata": {
    "colab": {
      "name": "Untitled8.ipynb",
      "provenance": [],
      "authorship_tag": "ABX9TyOQh+DUFFaVk2/bp6JVCzTY",
      "include_colab_link": true
    },
    "kernelspec": {
      "name": "python3",
      "display_name": "Python 3"
    },
    "language_info": {
      "name": "python"
    }
  },
  "cells": [
    {
      "cell_type": "markdown",
      "metadata": {
        "id": "view-in-github",
        "colab_type": "text"
      },
      "source": [
        "<a href=\"https://colab.research.google.com/github/JongHyun2332/ipympl/blob/master/123456789.ipynb\" target=\"_parent\"><img src=\"https://colab.research.google.com/assets/colab-badge.svg\" alt=\"Open In Colab\"/></a>"
      ]
    },
    {
      "cell_type": "code",
      "metadata": {
        "id": "f3Ota3lYzq5c"
      },
      "source": [
        "import pandas as pd"
      ],
      "execution_count": null,
      "outputs": []
    },
    {
      "cell_type": "code",
      "metadata": {
        "id": "8a3PQ5kfz_zO"
      },
      "source": [
        "df = pd.read_csv('credit_cards_dataset.csv')"
      ],
      "execution_count": null,
      "outputs": []
    },
    {
      "cell_type": "code",
      "metadata": {
        "colab": {
          "base_uri": "https://localhost:8080/",
          "height": 162
        },
        "id": "gU0gQIH60KZY",
        "outputId": "b0ae85d6-7946-40a0-a8e4-1f32b96872d5"
      },
      "source": [
        "df.head(3)"
      ],
      "execution_count": null,
      "outputs": [
        {
          "output_type": "execute_result",
          "data": {
            "text/html": [
              "<div>\n",
              "<style scoped>\n",
              "    .dataframe tbody tr th:only-of-type {\n",
              "        vertical-align: middle;\n",
              "    }\n",
              "\n",
              "    .dataframe tbody tr th {\n",
              "        vertical-align: top;\n",
              "    }\n",
              "\n",
              "    .dataframe thead th {\n",
              "        text-align: right;\n",
              "    }\n",
              "</style>\n",
              "<table border=\"1\" class=\"dataframe\">\n",
              "  <thead>\n",
              "    <tr style=\"text-align: right;\">\n",
              "      <th></th>\n",
              "      <th>ID</th>\n",
              "      <th>LIMIT_BAL</th>\n",
              "      <th>SEX</th>\n",
              "      <th>EDUCATION</th>\n",
              "      <th>MARRIAGE</th>\n",
              "      <th>AGE</th>\n",
              "      <th>PAY_0</th>\n",
              "      <th>PAY_2</th>\n",
              "      <th>PAY_3</th>\n",
              "      <th>PAY_4</th>\n",
              "      <th>PAY_5</th>\n",
              "      <th>PAY_6</th>\n",
              "      <th>BILL_AMT1</th>\n",
              "      <th>BILL_AMT2</th>\n",
              "      <th>BILL_AMT3</th>\n",
              "      <th>BILL_AMT4</th>\n",
              "      <th>BILL_AMT5</th>\n",
              "      <th>BILL_AMT6</th>\n",
              "      <th>PAY_AMT1</th>\n",
              "      <th>PAY_AMT2</th>\n",
              "      <th>PAY_AMT3</th>\n",
              "      <th>PAY_AMT4</th>\n",
              "      <th>PAY_AMT5</th>\n",
              "      <th>PAY_AMT6</th>\n",
              "      <th>default.payment.next.month</th>\n",
              "    </tr>\n",
              "  </thead>\n",
              "  <tbody>\n",
              "    <tr>\n",
              "      <th>0</th>\n",
              "      <td>1</td>\n",
              "      <td>20000.0</td>\n",
              "      <td>2</td>\n",
              "      <td>2</td>\n",
              "      <td>1</td>\n",
              "      <td>24</td>\n",
              "      <td>2</td>\n",
              "      <td>2</td>\n",
              "      <td>-1</td>\n",
              "      <td>-1</td>\n",
              "      <td>-2</td>\n",
              "      <td>-2</td>\n",
              "      <td>3913.0</td>\n",
              "      <td>3102.0</td>\n",
              "      <td>689.0</td>\n",
              "      <td>0.0</td>\n",
              "      <td>0.0</td>\n",
              "      <td>0.0</td>\n",
              "      <td>0.0</td>\n",
              "      <td>689.0</td>\n",
              "      <td>0.0</td>\n",
              "      <td>0.0</td>\n",
              "      <td>0.0</td>\n",
              "      <td>0.0</td>\n",
              "      <td>1</td>\n",
              "    </tr>\n",
              "    <tr>\n",
              "      <th>1</th>\n",
              "      <td>2</td>\n",
              "      <td>120000.0</td>\n",
              "      <td>2</td>\n",
              "      <td>2</td>\n",
              "      <td>2</td>\n",
              "      <td>26</td>\n",
              "      <td>-1</td>\n",
              "      <td>2</td>\n",
              "      <td>0</td>\n",
              "      <td>0</td>\n",
              "      <td>0</td>\n",
              "      <td>2</td>\n",
              "      <td>2682.0</td>\n",
              "      <td>1725.0</td>\n",
              "      <td>2682.0</td>\n",
              "      <td>3272.0</td>\n",
              "      <td>3455.0</td>\n",
              "      <td>3261.0</td>\n",
              "      <td>0.0</td>\n",
              "      <td>1000.0</td>\n",
              "      <td>1000.0</td>\n",
              "      <td>1000.0</td>\n",
              "      <td>0.0</td>\n",
              "      <td>2000.0</td>\n",
              "      <td>1</td>\n",
              "    </tr>\n",
              "    <tr>\n",
              "      <th>2</th>\n",
              "      <td>3</td>\n",
              "      <td>90000.0</td>\n",
              "      <td>2</td>\n",
              "      <td>2</td>\n",
              "      <td>2</td>\n",
              "      <td>34</td>\n",
              "      <td>0</td>\n",
              "      <td>0</td>\n",
              "      <td>0</td>\n",
              "      <td>0</td>\n",
              "      <td>0</td>\n",
              "      <td>0</td>\n",
              "      <td>29239.0</td>\n",
              "      <td>14027.0</td>\n",
              "      <td>13559.0</td>\n",
              "      <td>14331.0</td>\n",
              "      <td>14948.0</td>\n",
              "      <td>15549.0</td>\n",
              "      <td>1518.0</td>\n",
              "      <td>1500.0</td>\n",
              "      <td>1000.0</td>\n",
              "      <td>1000.0</td>\n",
              "      <td>1000.0</td>\n",
              "      <td>5000.0</td>\n",
              "      <td>0</td>\n",
              "    </tr>\n",
              "  </tbody>\n",
              "</table>\n",
              "</div>"
            ],
            "text/plain": [
              "   ID  LIMIT_BAL  SEX  ...  PAY_AMT5  PAY_AMT6  default.payment.next.month\n",
              "0   1    20000.0    2  ...       0.0       0.0                           1\n",
              "1   2   120000.0    2  ...       0.0    2000.0                           1\n",
              "2   3    90000.0    2  ...    1000.0    5000.0                           0\n",
              "\n",
              "[3 rows x 25 columns]"
            ]
          },
          "metadata": {},
          "execution_count": 5
        }
      ]
    },
    {
      "cell_type": "code",
      "metadata": {
        "colab": {
          "base_uri": "https://localhost:8080/",
          "height": 162
        },
        "id": "xMFk3MUJ0Rb8",
        "outputId": "c2b5f9dd-3e19-41a1-939d-eeb50decc9bb"
      },
      "source": [
        "df.tail(3)"
      ],
      "execution_count": null,
      "outputs": [
        {
          "output_type": "execute_result",
          "data": {
            "text/html": [
              "<div>\n",
              "<style scoped>\n",
              "    .dataframe tbody tr th:only-of-type {\n",
              "        vertical-align: middle;\n",
              "    }\n",
              "\n",
              "    .dataframe tbody tr th {\n",
              "        vertical-align: top;\n",
              "    }\n",
              "\n",
              "    .dataframe thead th {\n",
              "        text-align: right;\n",
              "    }\n",
              "</style>\n",
              "<table border=\"1\" class=\"dataframe\">\n",
              "  <thead>\n",
              "    <tr style=\"text-align: right;\">\n",
              "      <th></th>\n",
              "      <th>ID</th>\n",
              "      <th>LIMIT_BAL</th>\n",
              "      <th>SEX</th>\n",
              "      <th>EDUCATION</th>\n",
              "      <th>MARRIAGE</th>\n",
              "      <th>AGE</th>\n",
              "      <th>PAY_0</th>\n",
              "      <th>PAY_2</th>\n",
              "      <th>PAY_3</th>\n",
              "      <th>PAY_4</th>\n",
              "      <th>PAY_5</th>\n",
              "      <th>PAY_6</th>\n",
              "      <th>BILL_AMT1</th>\n",
              "      <th>BILL_AMT2</th>\n",
              "      <th>BILL_AMT3</th>\n",
              "      <th>BILL_AMT4</th>\n",
              "      <th>BILL_AMT5</th>\n",
              "      <th>BILL_AMT6</th>\n",
              "      <th>PAY_AMT1</th>\n",
              "      <th>PAY_AMT2</th>\n",
              "      <th>PAY_AMT3</th>\n",
              "      <th>PAY_AMT4</th>\n",
              "      <th>PAY_AMT5</th>\n",
              "      <th>PAY_AMT6</th>\n",
              "      <th>default.payment.next.month</th>\n",
              "    </tr>\n",
              "  </thead>\n",
              "  <tbody>\n",
              "    <tr>\n",
              "      <th>29997</th>\n",
              "      <td>29998</td>\n",
              "      <td>30000.0</td>\n",
              "      <td>1</td>\n",
              "      <td>2</td>\n",
              "      <td>2</td>\n",
              "      <td>37</td>\n",
              "      <td>4</td>\n",
              "      <td>3</td>\n",
              "      <td>2</td>\n",
              "      <td>-1</td>\n",
              "      <td>0</td>\n",
              "      <td>0</td>\n",
              "      <td>3565.0</td>\n",
              "      <td>3356.0</td>\n",
              "      <td>2758.0</td>\n",
              "      <td>20878.0</td>\n",
              "      <td>20582.0</td>\n",
              "      <td>19357.0</td>\n",
              "      <td>0.0</td>\n",
              "      <td>0.0</td>\n",
              "      <td>22000.0</td>\n",
              "      <td>4200.0</td>\n",
              "      <td>2000.0</td>\n",
              "      <td>3100.0</td>\n",
              "      <td>1</td>\n",
              "    </tr>\n",
              "    <tr>\n",
              "      <th>29998</th>\n",
              "      <td>29999</td>\n",
              "      <td>80000.0</td>\n",
              "      <td>1</td>\n",
              "      <td>3</td>\n",
              "      <td>1</td>\n",
              "      <td>41</td>\n",
              "      <td>1</td>\n",
              "      <td>-1</td>\n",
              "      <td>0</td>\n",
              "      <td>0</td>\n",
              "      <td>0</td>\n",
              "      <td>-1</td>\n",
              "      <td>-1645.0</td>\n",
              "      <td>78379.0</td>\n",
              "      <td>76304.0</td>\n",
              "      <td>52774.0</td>\n",
              "      <td>11855.0</td>\n",
              "      <td>48944.0</td>\n",
              "      <td>85900.0</td>\n",
              "      <td>3409.0</td>\n",
              "      <td>1178.0</td>\n",
              "      <td>1926.0</td>\n",
              "      <td>52964.0</td>\n",
              "      <td>1804.0</td>\n",
              "      <td>1</td>\n",
              "    </tr>\n",
              "    <tr>\n",
              "      <th>29999</th>\n",
              "      <td>30000</td>\n",
              "      <td>50000.0</td>\n",
              "      <td>1</td>\n",
              "      <td>2</td>\n",
              "      <td>1</td>\n",
              "      <td>46</td>\n",
              "      <td>0</td>\n",
              "      <td>0</td>\n",
              "      <td>0</td>\n",
              "      <td>0</td>\n",
              "      <td>0</td>\n",
              "      <td>0</td>\n",
              "      <td>47929.0</td>\n",
              "      <td>48905.0</td>\n",
              "      <td>49764.0</td>\n",
              "      <td>36535.0</td>\n",
              "      <td>32428.0</td>\n",
              "      <td>15313.0</td>\n",
              "      <td>2078.0</td>\n",
              "      <td>1800.0</td>\n",
              "      <td>1430.0</td>\n",
              "      <td>1000.0</td>\n",
              "      <td>1000.0</td>\n",
              "      <td>1000.0</td>\n",
              "      <td>1</td>\n",
              "    </tr>\n",
              "  </tbody>\n",
              "</table>\n",
              "</div>"
            ],
            "text/plain": [
              "          ID  LIMIT_BAL  SEX  ...  PAY_AMT5  PAY_AMT6  default.payment.next.month\n",
              "29997  29998    30000.0    1  ...    2000.0    3100.0                           1\n",
              "29998  29999    80000.0    1  ...   52964.0    1804.0                           1\n",
              "29999  30000    50000.0    1  ...    1000.0    1000.0                           1\n",
              "\n",
              "[3 rows x 25 columns]"
            ]
          },
          "metadata": {},
          "execution_count": 6
        }
      ]
    },
    {
      "cell_type": "code",
      "metadata": {
        "id": "w-5zzywL0Sfb"
      },
      "source": [
        "import xgboost as xgb"
      ],
      "execution_count": null,
      "outputs": []
    },
    {
      "cell_type": "code",
      "metadata": {
        "colab": {
          "base_uri": "https://localhost:8080/"
        },
        "id": "AC_xOwiL1Bb4",
        "outputId": "8402ae2e-2f6b-4422-fd14-157b431dc688"
      },
      "source": [
        "df.columns"
      ],
      "execution_count": null,
      "outputs": [
        {
          "output_type": "execute_result",
          "data": {
            "text/plain": [
              "Index(['ID', 'LIMIT_BAL', 'SEX', 'EDUCATION', 'MARRIAGE', 'AGE', 'PAY_0',\n",
              "       'PAY_2', 'PAY_3', 'PAY_4', 'PAY_5', 'PAY_6', 'BILL_AMT1', 'BILL_AMT2',\n",
              "       'BILL_AMT3', 'BILL_AMT4', 'BILL_AMT5', 'BILL_AMT6', 'PAY_AMT1',\n",
              "       'PAY_AMT2', 'PAY_AMT3', 'PAY_AMT4', 'PAY_AMT5', 'PAY_AMT6',\n",
              "       'default.payment.next.month'],\n",
              "      dtype='object')"
            ]
          },
          "metadata": {},
          "execution_count": 8
        }
      ]
    },
    {
      "cell_type": "code",
      "metadata": {
        "id": "4WkLfux51Y0B"
      },
      "source": [
        "X = df.drop(['default.payment.next.month'], axis = 1).values"
      ],
      "execution_count": null,
      "outputs": []
    },
    {
      "cell_type": "code",
      "metadata": {
        "colab": {
          "base_uri": "https://localhost:8080/"
        },
        "id": "TPccpcdx1zQb",
        "outputId": "2c76e389-28b0-4e7c-b2d7-762629194d28"
      },
      "source": [
        "X[:,-4:-1]"
      ],
      "execution_count": null,
      "outputs": [
        {
          "output_type": "execute_result",
          "data": {
            "text/plain": [
              "array([[    0.,     0.,     0.],\n",
              "       [ 1000.,  1000.,     0.],\n",
              "       [ 1000.,  1000.,  1000.],\n",
              "       ...,\n",
              "       [22000.,  4200.,  2000.],\n",
              "       [ 1178.,  1926., 52964.],\n",
              "       [ 1430.,  1000.,  1000.]])"
            ]
          },
          "metadata": {},
          "execution_count": 10
        }
      ]
    },
    {
      "cell_type": "code",
      "metadata": {
        "id": "-F0cH-LZ3eHf"
      },
      "source": [
        "from sklearn.model_selection import train_test_split"
      ],
      "execution_count": null,
      "outputs": []
    },
    {
      "cell_type": "code",
      "metadata": {
        "id": "-WwmKTFjIAwA"
      },
      "source": [
        "y = df['default.payment.next.month'].values"
      ],
      "execution_count": null,
      "outputs": []
    },
    {
      "cell_type": "code",
      "metadata": {
        "id": "3_POIBoX3AEm"
      },
      "source": [
        "X_train, X_test, Y_train, Y_test = train_test_split(X, y, train_size = 0.7, random_state = 100)"
      ],
      "execution_count": null,
      "outputs": []
    },
    {
      "cell_type": "code",
      "metadata": {
        "colab": {
          "base_uri": "https://localhost:8080/"
        },
        "id": "i4a0qd_p4E7R",
        "outputId": "913557ab-1a6e-41c7-d609-1492c44c1741"
      },
      "source": [
        "X_train.shape"
      ],
      "execution_count": null,
      "outputs": [
        {
          "output_type": "execute_result",
          "data": {
            "text/plain": [
              "(21000, 24)"
            ]
          },
          "metadata": {},
          "execution_count": 16
        }
      ]
    },
    {
      "cell_type": "code",
      "metadata": {
        "id": "QU-cCp211Isk"
      },
      "source": [
        "y = df['default.payment.next.month'].values"
      ],
      "execution_count": null,
      "outputs": []
    },
    {
      "cell_type": "markdown",
      "metadata": {
        "id": "SFDE-SSe5EXs"
      },
      "source": [
        "XGB Matrix 설정"
      ]
    },
    {
      "cell_type": "code",
      "metadata": {
        "id": "v3aKWoTD5Tdc"
      },
      "source": [
        ""
      ],
      "execution_count": null,
      "outputs": []
    },
    {
      "cell_type": "code",
      "metadata": {
        "id": "h0FeE3Fn0jrH"
      },
      "source": [
        "dtrain = xgb.DMatrix(X_train, label=Y_train)"
      ],
      "execution_count": null,
      "outputs": []
    },
    {
      "cell_type": "code",
      "metadata": {
        "id": "PsVt9bHxGK-x"
      },
      "source": [
        ""
      ],
      "execution_count": null,
      "outputs": []
    },
    {
      "cell_type": "code",
      "metadata": {
        "id": "IlHK8YV20-lE"
      },
      "source": [
        "dtest = xgb.DMatrix(X_test, label=Y_test)"
      ],
      "execution_count": null,
      "outputs": []
    },
    {
      "cell_type": "code",
      "metadata": {
        "colab": {
          "base_uri": "https://localhost:8080/"
        },
        "id": "D8LYmt0C5f-M",
        "outputId": "665d3b55-2fbd-49d1-c384-0db0b29a8eac"
      },
      "source": [
        "type(dtrain)"
      ],
      "execution_count": null,
      "outputs": [
        {
          "output_type": "execute_result",
          "data": {
            "text/plain": [
              "xgboost.core.DMatrix"
            ]
          },
          "metadata": {},
          "execution_count": 20
        }
      ]
    },
    {
      "cell_type": "code",
      "metadata": {
        "id": "ziE0uhW553SG"
      },
      "source": [
        "param = {'max_depth' : 10, 'eta' : 0.01, 'objective' : 'binary:logistic'}\n",
        "param['nthread'] = 4\n",
        "param['eval_metric'] = 'auc'"
      ],
      "execution_count": null,
      "outputs": []
    },
    {
      "cell_type": "code",
      "metadata": {
        "id": "wUoiaBq55n2H"
      },
      "source": [
        "evallist = [(dtest,'eval'),(dtrain,'train')]"
      ],
      "execution_count": null,
      "outputs": []
    },
    {
      "cell_type": "code",
      "metadata": {
        "colab": {
          "base_uri": "https://localhost:8080/"
        },
        "id": "lLWtzrfv6yRT",
        "outputId": "e2a0bfbf-1582-4de0-bf5a-eb0cbe92773b"
      },
      "source": [
        "num_round = 200\n",
        "bst = xgb.train(param, dtrain, num_round, evallist)"
      ],
      "execution_count": null,
      "outputs": [
        {
          "output_type": "stream",
          "name": "stdout",
          "text": [
            "[0]\teval-auc:0.757028\ttrain-auc:0.816388\n",
            "[1]\teval-auc:0.765205\ttrain-auc:0.825584\n",
            "[2]\teval-auc:0.765845\ttrain-auc:0.828532\n",
            "[3]\teval-auc:0.765386\ttrain-auc:0.828403\n",
            "[4]\teval-auc:0.766596\ttrain-auc:0.829558\n",
            "[5]\teval-auc:0.766115\ttrain-auc:0.830237\n",
            "[6]\teval-auc:0.766968\ttrain-auc:0.830992\n",
            "[7]\teval-auc:0.766464\ttrain-auc:0.831067\n",
            "[8]\teval-auc:0.7671\ttrain-auc:0.831211\n",
            "[9]\teval-auc:0.767116\ttrain-auc:0.831453\n",
            "[10]\teval-auc:0.767181\ttrain-auc:0.832088\n",
            "[11]\teval-auc:0.767108\ttrain-auc:0.832493\n",
            "[12]\teval-auc:0.767423\ttrain-auc:0.832884\n",
            "[13]\teval-auc:0.767413\ttrain-auc:0.833082\n",
            "[14]\teval-auc:0.767837\ttrain-auc:0.833463\n",
            "[15]\teval-auc:0.768482\ttrain-auc:0.834105\n",
            "[16]\teval-auc:0.769166\ttrain-auc:0.836252\n",
            "[17]\teval-auc:0.769738\ttrain-auc:0.837551\n",
            "[18]\teval-auc:0.769788\ttrain-auc:0.837683\n",
            "[19]\teval-auc:0.76995\ttrain-auc:0.838515\n",
            "[20]\teval-auc:0.770344\ttrain-auc:0.838786\n",
            "[21]\teval-auc:0.770651\ttrain-auc:0.839631\n",
            "[22]\teval-auc:0.771436\ttrain-auc:0.841769\n",
            "[23]\teval-auc:0.771904\ttrain-auc:0.842282\n",
            "[24]\teval-auc:0.772444\ttrain-auc:0.843569\n",
            "[25]\teval-auc:0.772896\ttrain-auc:0.845051\n",
            "[26]\teval-auc:0.77312\ttrain-auc:0.845217\n",
            "[27]\teval-auc:0.773533\ttrain-auc:0.846242\n",
            "[28]\teval-auc:0.773884\ttrain-auc:0.846947\n",
            "[29]\teval-auc:0.774179\ttrain-auc:0.848363\n",
            "[30]\teval-auc:0.774421\ttrain-auc:0.848458\n",
            "[31]\teval-auc:0.774631\ttrain-auc:0.849587\n",
            "[32]\teval-auc:0.774884\ttrain-auc:0.850536\n",
            "[33]\teval-auc:0.775089\ttrain-auc:0.851377\n",
            "[34]\teval-auc:0.775265\ttrain-auc:0.852067\n",
            "[35]\teval-auc:0.775732\ttrain-auc:0.852778\n",
            "[36]\teval-auc:0.775753\ttrain-auc:0.853448\n",
            "[37]\teval-auc:0.775862\ttrain-auc:0.853953\n",
            "[38]\teval-auc:0.775915\ttrain-auc:0.854485\n",
            "[39]\teval-auc:0.776335\ttrain-auc:0.854971\n",
            "[40]\teval-auc:0.776286\ttrain-auc:0.855386\n",
            "[41]\teval-auc:0.776585\ttrain-auc:0.855786\n",
            "[42]\teval-auc:0.776463\ttrain-auc:0.856264\n",
            "[43]\teval-auc:0.776716\ttrain-auc:0.8566\n",
            "[44]\teval-auc:0.776732\ttrain-auc:0.857025\n",
            "[45]\teval-auc:0.776844\ttrain-auc:0.857418\n",
            "[46]\teval-auc:0.776942\ttrain-auc:0.857761\n",
            "[47]\teval-auc:0.776792\ttrain-auc:0.858049\n",
            "[48]\teval-auc:0.77694\ttrain-auc:0.858358\n",
            "[49]\teval-auc:0.776996\ttrain-auc:0.858559\n",
            "[50]\teval-auc:0.776836\ttrain-auc:0.858953\n",
            "[51]\teval-auc:0.776859\ttrain-auc:0.859315\n",
            "[52]\teval-auc:0.776914\ttrain-auc:0.85954\n",
            "[53]\teval-auc:0.777007\ttrain-auc:0.859898\n",
            "[54]\teval-auc:0.777162\ttrain-auc:0.860099\n",
            "[55]\teval-auc:0.777241\ttrain-auc:0.860466\n",
            "[56]\teval-auc:0.777184\ttrain-auc:0.86086\n",
            "[57]\teval-auc:0.777207\ttrain-auc:0.861068\n",
            "[58]\teval-auc:0.777323\ttrain-auc:0.861539\n",
            "[59]\teval-auc:0.777349\ttrain-auc:0.861796\n",
            "[60]\teval-auc:0.777306\ttrain-auc:0.862056\n",
            "[61]\teval-auc:0.777443\ttrain-auc:0.86243\n",
            "[62]\teval-auc:0.777619\ttrain-auc:0.862619\n",
            "[63]\teval-auc:0.777707\ttrain-auc:0.863072\n",
            "[64]\teval-auc:0.777788\ttrain-auc:0.863509\n",
            "[65]\teval-auc:0.777955\ttrain-auc:0.86384\n",
            "[66]\teval-auc:0.777905\ttrain-auc:0.864052\n",
            "[67]\teval-auc:0.77793\ttrain-auc:0.864449\n",
            "[68]\teval-auc:0.777938\ttrain-auc:0.864834\n",
            "[69]\teval-auc:0.778028\ttrain-auc:0.865266\n",
            "[70]\teval-auc:0.778084\ttrain-auc:0.865694\n",
            "[71]\teval-auc:0.778081\ttrain-auc:0.866083\n",
            "[72]\teval-auc:0.778073\ttrain-auc:0.866395\n",
            "[73]\teval-auc:0.778118\ttrain-auc:0.866814\n",
            "[74]\teval-auc:0.778143\ttrain-auc:0.867119\n",
            "[75]\teval-auc:0.778071\ttrain-auc:0.867365\n",
            "[76]\teval-auc:0.778208\ttrain-auc:0.867833\n",
            "[77]\teval-auc:0.778249\ttrain-auc:0.868317\n",
            "[78]\teval-auc:0.778217\ttrain-auc:0.868682\n",
            "[79]\teval-auc:0.778253\ttrain-auc:0.869185\n",
            "[80]\teval-auc:0.778177\ttrain-auc:0.869396\n",
            "[81]\teval-auc:0.778141\ttrain-auc:0.869627\n",
            "[82]\teval-auc:0.778043\ttrain-auc:0.869907\n",
            "[83]\teval-auc:0.778121\ttrain-auc:0.870451\n",
            "[84]\teval-auc:0.778212\ttrain-auc:0.870849\n",
            "[85]\teval-auc:0.778327\ttrain-auc:0.871347\n",
            "[86]\teval-auc:0.77834\ttrain-auc:0.871597\n",
            "[87]\teval-auc:0.778364\ttrain-auc:0.87183\n",
            "[88]\teval-auc:0.778374\ttrain-auc:0.872283\n",
            "[89]\teval-auc:0.778462\ttrain-auc:0.872733\n",
            "[90]\teval-auc:0.77854\ttrain-auc:0.873056\n",
            "[91]\teval-auc:0.778571\ttrain-auc:0.873495\n",
            "[92]\teval-auc:0.778551\ttrain-auc:0.873919\n",
            "[93]\teval-auc:0.778617\ttrain-auc:0.874256\n",
            "[94]\teval-auc:0.778682\ttrain-auc:0.874646\n",
            "[95]\teval-auc:0.778715\ttrain-auc:0.875001\n",
            "[96]\teval-auc:0.778758\ttrain-auc:0.875712\n",
            "[97]\teval-auc:0.778759\ttrain-auc:0.876348\n",
            "[98]\teval-auc:0.778786\ttrain-auc:0.877005\n",
            "[99]\teval-auc:0.778746\ttrain-auc:0.877588\n",
            "[100]\teval-auc:0.778792\ttrain-auc:0.878168\n",
            "[101]\teval-auc:0.778697\ttrain-auc:0.878718\n",
            "[102]\teval-auc:0.778735\ttrain-auc:0.879371\n",
            "[103]\teval-auc:0.778721\ttrain-auc:0.88005\n",
            "[104]\teval-auc:0.778641\ttrain-auc:0.880731\n",
            "[105]\teval-auc:0.778601\ttrain-auc:0.881133\n",
            "[106]\teval-auc:0.778687\ttrain-auc:0.881676\n",
            "[107]\teval-auc:0.778641\ttrain-auc:0.88222\n",
            "[108]\teval-auc:0.778687\ttrain-auc:0.882608\n",
            "[109]\teval-auc:0.778703\ttrain-auc:0.883119\n",
            "[110]\teval-auc:0.778692\ttrain-auc:0.883635\n",
            "[111]\teval-auc:0.778726\ttrain-auc:0.884241\n",
            "[112]\teval-auc:0.778854\ttrain-auc:0.88484\n",
            "[113]\teval-auc:0.778934\ttrain-auc:0.885408\n",
            "[114]\teval-auc:0.778881\ttrain-auc:0.885908\n",
            "[115]\teval-auc:0.77885\ttrain-auc:0.886489\n",
            "[116]\teval-auc:0.778851\ttrain-auc:0.886883\n",
            "[117]\teval-auc:0.778769\ttrain-auc:0.887465\n",
            "[118]\teval-auc:0.778693\ttrain-auc:0.888124\n",
            "[119]\teval-auc:0.778639\ttrain-auc:0.889042\n",
            "[120]\teval-auc:0.778627\ttrain-auc:0.889446\n",
            "[121]\teval-auc:0.778588\ttrain-auc:0.890189\n",
            "[122]\teval-auc:0.778657\ttrain-auc:0.891023\n",
            "[123]\teval-auc:0.778587\ttrain-auc:0.891494\n",
            "[124]\teval-auc:0.778589\ttrain-auc:0.892305\n",
            "[125]\teval-auc:0.778612\ttrain-auc:0.893098\n",
            "[126]\teval-auc:0.778612\ttrain-auc:0.893553\n",
            "[127]\teval-auc:0.77864\ttrain-auc:0.894353\n",
            "[128]\teval-auc:0.778624\ttrain-auc:0.895005\n",
            "[129]\teval-auc:0.778547\ttrain-auc:0.895708\n",
            "[130]\teval-auc:0.778521\ttrain-auc:0.896133\n",
            "[131]\teval-auc:0.778541\ttrain-auc:0.896749\n",
            "[132]\teval-auc:0.778498\ttrain-auc:0.897363\n",
            "[133]\teval-auc:0.778431\ttrain-auc:0.897776\n",
            "[134]\teval-auc:0.778425\ttrain-auc:0.89833\n",
            "[135]\teval-auc:0.778385\ttrain-auc:0.898934\n",
            "[136]\teval-auc:0.778406\ttrain-auc:0.899308\n",
            "[137]\teval-auc:0.778314\ttrain-auc:0.899775\n",
            "[138]\teval-auc:0.778295\ttrain-auc:0.900126\n",
            "[139]\teval-auc:0.778201\ttrain-auc:0.900497\n",
            "[140]\teval-auc:0.778171\ttrain-auc:0.900844\n",
            "[141]\teval-auc:0.778135\ttrain-auc:0.901128\n",
            "[142]\teval-auc:0.778276\ttrain-auc:0.901547\n",
            "[143]\teval-auc:0.778265\ttrain-auc:0.902067\n",
            "[144]\teval-auc:0.778341\ttrain-auc:0.902461\n",
            "[145]\teval-auc:0.778307\ttrain-auc:0.902773\n",
            "[146]\teval-auc:0.7783\ttrain-auc:0.903261\n",
            "[147]\teval-auc:0.778316\ttrain-auc:0.9036\n",
            "[148]\teval-auc:0.778461\ttrain-auc:0.903919\n",
            "[149]\teval-auc:0.778562\ttrain-auc:0.904287\n",
            "[150]\teval-auc:0.778495\ttrain-auc:0.904627\n",
            "[151]\teval-auc:0.778496\ttrain-auc:0.904927\n",
            "[152]\teval-auc:0.778577\ttrain-auc:0.905252\n",
            "[153]\teval-auc:0.778673\ttrain-auc:0.905809\n",
            "[154]\teval-auc:0.778771\ttrain-auc:0.906299\n",
            "[155]\teval-auc:0.77881\ttrain-auc:0.906843\n",
            "[156]\teval-auc:0.778899\ttrain-auc:0.907272\n",
            "[157]\teval-auc:0.778965\ttrain-auc:0.907744\n",
            "[158]\teval-auc:0.77901\ttrain-auc:0.90814\n",
            "[159]\teval-auc:0.779063\ttrain-auc:0.908654\n",
            "[160]\teval-auc:0.779132\ttrain-auc:0.909041\n",
            "[161]\teval-auc:0.779098\ttrain-auc:0.909455\n",
            "[162]\teval-auc:0.779171\ttrain-auc:0.909904\n",
            "[163]\teval-auc:0.779244\ttrain-auc:0.910315\n",
            "[164]\teval-auc:0.779199\ttrain-auc:0.910734\n",
            "[165]\teval-auc:0.77922\ttrain-auc:0.911108\n",
            "[166]\teval-auc:0.779267\ttrain-auc:0.911564\n",
            "[167]\teval-auc:0.779309\ttrain-auc:0.911921\n",
            "[168]\teval-auc:0.779274\ttrain-auc:0.912264\n",
            "[169]\teval-auc:0.779327\ttrain-auc:0.912572\n",
            "[170]\teval-auc:0.779413\ttrain-auc:0.912954\n",
            "[171]\teval-auc:0.779465\ttrain-auc:0.913224\n",
            "[172]\teval-auc:0.779468\ttrain-auc:0.913591\n",
            "[173]\teval-auc:0.779384\ttrain-auc:0.914012\n",
            "[174]\teval-auc:0.779424\ttrain-auc:0.914281\n",
            "[175]\teval-auc:0.77945\ttrain-auc:0.914659\n",
            "[176]\teval-auc:0.779515\ttrain-auc:0.914941\n",
            "[177]\teval-auc:0.77957\ttrain-auc:0.9153\n",
            "[178]\teval-auc:0.779693\ttrain-auc:0.915636\n",
            "[179]\teval-auc:0.77971\ttrain-auc:0.915952\n",
            "[180]\teval-auc:0.779721\ttrain-auc:0.916264\n",
            "[181]\teval-auc:0.779846\ttrain-auc:0.916598\n",
            "[182]\teval-auc:0.779863\ttrain-auc:0.916909\n",
            "[183]\teval-auc:0.779873\ttrain-auc:0.917199\n",
            "[184]\teval-auc:0.779914\ttrain-auc:0.917444\n",
            "[185]\teval-auc:0.779903\ttrain-auc:0.917689\n",
            "[186]\teval-auc:0.77993\ttrain-auc:0.917976\n",
            "[187]\teval-auc:0.779873\ttrain-auc:0.918215\n",
            "[188]\teval-auc:0.779854\ttrain-auc:0.918487\n",
            "[189]\teval-auc:0.77986\ttrain-auc:0.9188\n",
            "[190]\teval-auc:0.779889\ttrain-auc:0.919197\n",
            "[191]\teval-auc:0.779921\ttrain-auc:0.919488\n",
            "[192]\teval-auc:0.77993\ttrain-auc:0.919906\n",
            "[193]\teval-auc:0.779903\ttrain-auc:0.920115\n",
            "[194]\teval-auc:0.779886\ttrain-auc:0.920387\n",
            "[195]\teval-auc:0.779907\ttrain-auc:0.920755\n",
            "[196]\teval-auc:0.779905\ttrain-auc:0.921054\n",
            "[197]\teval-auc:0.779885\ttrain-auc:0.921331\n",
            "[198]\teval-auc:0.779896\ttrain-auc:0.921678\n",
            "[199]\teval-auc:0.779932\ttrain-auc:0.921881\n"
          ]
        }
      ]
    },
    {
      "cell_type": "code",
      "metadata": {
        "id": "1SgcIzW_GbgR"
      },
      "source": [
        "bst.save_model('0001.model')"
      ],
      "execution_count": null,
      "outputs": []
    },
    {
      "cell_type": "code",
      "metadata": {
        "id": "Swg6Z2LUHS4D"
      },
      "source": [
        "bst.load_model('./0001.model')"
      ],
      "execution_count": null,
      "outputs": []
    },
    {
      "cell_type": "code",
      "metadata": {
        "id": "pVBhrlb969fu"
      },
      "source": [
        "ypred = bst.predict(dtest)"
      ],
      "execution_count": null,
      "outputs": []
    },
    {
      "cell_type": "code",
      "metadata": {
        "id": "YeMAQq8u7usy"
      },
      "source": [
        "ypred[:3]"
      ],
      "execution_count": null,
      "outputs": []
    },
    {
      "cell_type": "code",
      "metadata": {
        "id": "_77SqULM70fM"
      },
      "source": [
        "import numpy as np\n",
        "predictions = np.round(ypred)"
      ],
      "execution_count": null,
      "outputs": []
    },
    {
      "cell_type": "code",
      "metadata": {
        "id": "FJnJjYtX8iHp"
      },
      "source": [
        "predictions"
      ],
      "execution_count": null,
      "outputs": []
    },
    {
      "cell_type": "code",
      "metadata": {
        "id": "I8_dPqZq8tkL"
      },
      "source": [
        "from sklearn.metrics import recall_score"
      ],
      "execution_count": null,
      "outputs": []
    },
    {
      "cell_type": "code",
      "metadata": {
        "id": "nonHASpZ81EI"
      },
      "source": [
        "recall_score(Y_test, predictions)"
      ],
      "execution_count": null,
      "outputs": []
    },
    {
      "cell_type": "code",
      "metadata": {
        "id": "80tVlIPZ85JU"
      },
      "source": [
        "xgb.plot_importance(bst)"
      ],
      "execution_count": null,
      "outputs": []
    },
    {
      "cell_type": "code",
      "metadata": {
        "id": "WqIFj_XgA2Ix"
      },
      "source": [
        ""
      ],
      "execution_count": null,
      "outputs": []
    }
  ]
}